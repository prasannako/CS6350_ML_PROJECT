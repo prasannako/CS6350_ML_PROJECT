{
 "cells": [
  {
   "cell_type": "code",
   "execution_count": 1,
   "id": "01902e2e-61a4-496d-8791-fcd3415ef852",
   "metadata": {},
   "outputs": [],
   "source": [
    "import os"
   ]
  },
  {
   "cell_type": "code",
   "execution_count": 2,
   "id": "a2d4a440-d45e-4fb6-9c0c-183d662e9809",
   "metadata": {},
   "outputs": [],
   "source": [
    "import numpy as np\n",
    "import pandas as pd\n",
    "import matplotlib.pyplot as plt"
   ]
  },
  {
   "cell_type": "code",
   "execution_count": 3,
   "id": "b24aeea1-2e58-4786-a67b-d40b5f179403",
   "metadata": {},
   "outputs": [],
   "source": [
    "current_directory = os.getcwd()"
   ]
  },
  {
   "cell_type": "code",
   "execution_count": 4,
   "id": "35be1994-7878-4b54-ace0-12c1cc5479c2",
   "metadata": {},
   "outputs": [],
   "source": [
    "df_train = pd.read_csv(os.path.join(current_directory, 'data', 'train_data.csv'), usecols = ['ID','fw','a','c/b','a^2'])"
   ]
  },
  {
   "cell_type": "code",
   "execution_count": 5,
   "id": "2d024bb8-6c18-4480-83cb-3276aa5a4c91",
   "metadata": {},
   "outputs": [
    {
     "data": {
      "text/html": [
       "<div>\n",
       "<style scoped>\n",
       "    .dataframe tbody tr th:only-of-type {\n",
       "        vertical-align: middle;\n",
       "    }\n",
       "\n",
       "    .dataframe tbody tr th {\n",
       "        vertical-align: top;\n",
       "    }\n",
       "\n",
       "    .dataframe thead th {\n",
       "        text-align: right;\n",
       "    }\n",
       "</style>\n",
       "<table border=\"1\" class=\"dataframe\">\n",
       "  <thead>\n",
       "    <tr style=\"text-align: right;\">\n",
       "      <th></th>\n",
       "      <th>a</th>\n",
       "      <th>fw</th>\n",
       "      <th>ID</th>\n",
       "      <th>c/b</th>\n",
       "      <th>a^2</th>\n",
       "    </tr>\n",
       "  </thead>\n",
       "  <tbody>\n",
       "    <tr>\n",
       "      <th>0</th>\n",
       "      <td>0.35</td>\n",
       "      <td>1.135007</td>\n",
       "      <td>0.0</td>\n",
       "      <td>0.50</td>\n",
       "      <td>0.1225</td>\n",
       "    </tr>\n",
       "    <tr>\n",
       "      <th>1</th>\n",
       "      <td>0.65</td>\n",
       "      <td>1.093783</td>\n",
       "      <td>0.0</td>\n",
       "      <td>0.10</td>\n",
       "      <td>0.4225</td>\n",
       "    </tr>\n",
       "    <tr>\n",
       "      <th>2</th>\n",
       "      <td>0.30</td>\n",
       "      <td>1.055009</td>\n",
       "      <td>0.0</td>\n",
       "      <td>0.10</td>\n",
       "      <td>0.0900</td>\n",
       "    </tr>\n",
       "    <tr>\n",
       "      <th>3</th>\n",
       "      <td>0.25</td>\n",
       "      <td>1.061839</td>\n",
       "      <td>0.0</td>\n",
       "      <td>0.25</td>\n",
       "      <td>0.0625</td>\n",
       "    </tr>\n",
       "    <tr>\n",
       "      <th>4</th>\n",
       "      <td>0.35</td>\n",
       "      <td>1.094954</td>\n",
       "      <td>0.0</td>\n",
       "      <td>0.35</td>\n",
       "      <td>0.1225</td>\n",
       "    </tr>\n",
       "    <tr>\n",
       "      <th>...</th>\n",
       "      <td>...</td>\n",
       "      <td>...</td>\n",
       "      <td>...</td>\n",
       "      <td>...</td>\n",
       "      <td>...</td>\n",
       "    </tr>\n",
       "    <tr>\n",
       "      <th>770860</th>\n",
       "      <td>0.75</td>\n",
       "      <td>1.115840</td>\n",
       "      <td>3.0</td>\n",
       "      <td>0.30</td>\n",
       "      <td>0.5625</td>\n",
       "    </tr>\n",
       "    <tr>\n",
       "      <th>770861</th>\n",
       "      <td>0.55</td>\n",
       "      <td>1.111252</td>\n",
       "      <td>3.0</td>\n",
       "      <td>0.30</td>\n",
       "      <td>0.3025</td>\n",
       "    </tr>\n",
       "    <tr>\n",
       "      <th>770862</th>\n",
       "      <td>0.35</td>\n",
       "      <td>1.070369</td>\n",
       "      <td>3.0</td>\n",
       "      <td>0.20</td>\n",
       "      <td>0.1225</td>\n",
       "    </tr>\n",
       "    <tr>\n",
       "      <th>770863</th>\n",
       "      <td>0.50</td>\n",
       "      <td>1.080332</td>\n",
       "      <td>3.0</td>\n",
       "      <td>0.10</td>\n",
       "      <td>0.2500</td>\n",
       "    </tr>\n",
       "    <tr>\n",
       "      <th>770864</th>\n",
       "      <td>0.75</td>\n",
       "      <td>1.094809</td>\n",
       "      <td>3.0</td>\n",
       "      <td>0.01</td>\n",
       "      <td>0.5625</td>\n",
       "    </tr>\n",
       "  </tbody>\n",
       "</table>\n",
       "<p>770865 rows × 5 columns</p>\n",
       "</div>"
      ],
      "text/plain": [
       "           a        fw   ID   c/b     a^2\n",
       "0       0.35  1.135007  0.0  0.50  0.1225\n",
       "1       0.65  1.093783  0.0  0.10  0.4225\n",
       "2       0.30  1.055009  0.0  0.10  0.0900\n",
       "3       0.25  1.061839  0.0  0.25  0.0625\n",
       "4       0.35  1.094954  0.0  0.35  0.1225\n",
       "...      ...       ...  ...   ...     ...\n",
       "770860  0.75  1.115840  3.0  0.30  0.5625\n",
       "770861  0.55  1.111252  3.0  0.30  0.3025\n",
       "770862  0.35  1.070369  3.0  0.20  0.1225\n",
       "770863  0.50  1.080332  3.0  0.10  0.2500\n",
       "770864  0.75  1.094809  3.0  0.01  0.5625\n",
       "\n",
       "[770865 rows x 5 columns]"
      ]
     },
     "execution_count": 5,
     "metadata": {},
     "output_type": "execute_result"
    }
   ],
   "source": [
    "df_train"
   ]
  },
  {
   "cell_type": "code",
   "execution_count": 6,
   "id": "106cac8d-50ba-4a4b-ab10-b669464415fc",
   "metadata": {},
   "outputs": [],
   "source": [
    "df_train = df_train[df_train['ID'] == 1]"
   ]
  },
  {
   "cell_type": "code",
   "execution_count": 7,
   "id": "17c80dbe-6d64-465a-8862-61714531ca54",
   "metadata": {},
   "outputs": [],
   "source": [
    "generations = range(0,100)"
   ]
  },
  {
   "cell_type": "code",
   "execution_count": 8,
   "id": "eb55d564-0cd6-458c-a01a-c4cd91121880",
   "metadata": {},
   "outputs": [
    {
     "name": "stderr",
     "output_type": "stream",
     "text": [
      "C:\\Users\\Prasanna Koirala\\AppData\\Local\\Temp\\ipykernel_15332\\1262279311.py:1: SettingWithCopyWarning: \n",
      "A value is trying to be set on a copy of a slice from a DataFrame.\n",
      "Try using .loc[row_indexer,col_indexer] = value instead\n",
      "\n",
      "See the caveats in the documentation: https://pandas.pydata.org/pandas-docs/stable/user_guide/indexing.html#returning-a-view-versus-a-copy\n",
      "  df_train.loc[:,'equation_1'] = 1\n",
      "C:\\Users\\Prasanna Koirala\\AppData\\Local\\Temp\\ipykernel_15332\\1262279311.py:2: SettingWithCopyWarning: \n",
      "A value is trying to be set on a copy of a slice from a DataFrame.\n",
      "Try using .loc[row_indexer,col_indexer] = value instead\n",
      "\n",
      "See the caveats in the documentation: https://pandas.pydata.org/pandas-docs/stable/user_guide/indexing.html#returning-a-view-versus-a-copy\n",
      "  df_train.loc[:,'equation_2'] = 1 + (df_train['a^2'])*(1-df_train['a^2'])\n",
      "C:\\Users\\Prasanna Koirala\\AppData\\Local\\Temp\\ipykernel_15332\\1262279311.py:3: SettingWithCopyWarning: \n",
      "A value is trying to be set on a copy of a slice from a DataFrame.\n",
      "Try using .loc[row_indexer,col_indexer] = value instead\n",
      "\n",
      "See the caveats in the documentation: https://pandas.pydata.org/pandas-docs/stable/user_guide/indexing.html#returning-a-view-versus-a-copy\n",
      "  df_train.loc[:,'equation_3'] = (-1/2) * (-2-df_train['c/b'])\n"
     ]
    }
   ],
   "source": [
    "df_train.loc[:,'equation_1'] = 1\n",
    "df_train.loc[:,'equation_2'] = 1 + (df_train['a^2'])*(1-df_train['a^2'])\n",
    "df_train.loc[:,'equation_3'] = (-1/2) * (-2-df_train['c/b'])"
   ]
  },
  {
   "cell_type": "code",
   "execution_count": 9,
   "id": "edfa878f-d92f-4a04-a641-f3cbb56fec13",
   "metadata": {},
   "outputs": [],
   "source": [
    "rmse1_train = np.sqrt(((df_train['fw'] - df_train['equation_1']) ** 2).mean())\n",
    "rmse2_train = np.sqrt(((df_train['fw'] - df_train['equation_2']) ** 2).mean())\n",
    "rmse3_train = np.sqrt(((df_train['fw'] - df_train['equation_3']) ** 2).mean())"
   ]
  },
  {
   "cell_type": "code",
   "execution_count": 10,
   "id": "20571aa0-f887-4891-b3a9-024d628cfdff",
   "metadata": {},
   "outputs": [],
   "source": [
    "rmse_train = list(range(0,100))\n",
    "rmse_train[0] = rmse1_train\n",
    "rmse_train = [rmse2_train if 1 <= x <= 6 else rmse3_train for x in rmse_train]"
   ]
  },
  {
   "cell_type": "code",
   "execution_count": 11,
   "id": "a52a9e33-7e1f-4988-bb56-26a74b19fc79",
   "metadata": {},
   "outputs": [],
   "source": [
    "df_test = pd.read_csv(os.path.join(current_directory, 'data', 'test_data.csv'), usecols = ['ID','fw','a','c/b','a^2'])"
   ]
  },
  {
   "cell_type": "code",
   "execution_count": 12,
   "id": "30ba8d7e-9017-4108-b12f-ad565fa2289b",
   "metadata": {},
   "outputs": [
    {
     "data": {
      "text/html": [
       "<div>\n",
       "<style scoped>\n",
       "    .dataframe tbody tr th:only-of-type {\n",
       "        vertical-align: middle;\n",
       "    }\n",
       "\n",
       "    .dataframe tbody tr th {\n",
       "        vertical-align: top;\n",
       "    }\n",
       "\n",
       "    .dataframe thead th {\n",
       "        text-align: right;\n",
       "    }\n",
       "</style>\n",
       "<table border=\"1\" class=\"dataframe\">\n",
       "  <thead>\n",
       "    <tr style=\"text-align: right;\">\n",
       "      <th></th>\n",
       "      <th>a</th>\n",
       "      <th>fw</th>\n",
       "      <th>ID</th>\n",
       "      <th>c/b</th>\n",
       "      <th>a^2</th>\n",
       "    </tr>\n",
       "  </thead>\n",
       "  <tbody>\n",
       "    <tr>\n",
       "      <th>0</th>\n",
       "      <td>0.050</td>\n",
       "      <td>1.006557</td>\n",
       "      <td>0.0</td>\n",
       "      <td>0.01</td>\n",
       "      <td>0.002500</td>\n",
       "    </tr>\n",
       "    <tr>\n",
       "      <th>1</th>\n",
       "      <td>0.100</td>\n",
       "      <td>1.030515</td>\n",
       "      <td>0.0</td>\n",
       "      <td>0.01</td>\n",
       "      <td>0.010000</td>\n",
       "    </tr>\n",
       "    <tr>\n",
       "      <th>2</th>\n",
       "      <td>0.100</td>\n",
       "      <td>1.031412</td>\n",
       "      <td>0.0</td>\n",
       "      <td>0.05</td>\n",
       "      <td>0.010000</td>\n",
       "    </tr>\n",
       "    <tr>\n",
       "      <th>3</th>\n",
       "      <td>0.200</td>\n",
       "      <td>1.040798</td>\n",
       "      <td>0.0</td>\n",
       "      <td>0.01</td>\n",
       "      <td>0.040000</td>\n",
       "    </tr>\n",
       "    <tr>\n",
       "      <th>4</th>\n",
       "      <td>0.200</td>\n",
       "      <td>1.041399</td>\n",
       "      <td>0.0</td>\n",
       "      <td>0.05</td>\n",
       "      <td>0.040000</td>\n",
       "    </tr>\n",
       "    <tr>\n",
       "      <th>...</th>\n",
       "      <td>...</td>\n",
       "      <td>...</td>\n",
       "      <td>...</td>\n",
       "      <td>...</td>\n",
       "      <td>...</td>\n",
       "    </tr>\n",
       "    <tr>\n",
       "      <th>303607</th>\n",
       "      <td>0.825</td>\n",
       "      <td>NaN</td>\n",
       "      <td>3.0</td>\n",
       "      <td>0.45</td>\n",
       "      <td>0.680625</td>\n",
       "    </tr>\n",
       "    <tr>\n",
       "      <th>303608</th>\n",
       "      <td>0.825</td>\n",
       "      <td>NaN</td>\n",
       "      <td>3.0</td>\n",
       "      <td>0.45</td>\n",
       "      <td>0.680625</td>\n",
       "    </tr>\n",
       "    <tr>\n",
       "      <th>303609</th>\n",
       "      <td>0.825</td>\n",
       "      <td>NaN</td>\n",
       "      <td>3.0</td>\n",
       "      <td>0.45</td>\n",
       "      <td>0.680625</td>\n",
       "    </tr>\n",
       "    <tr>\n",
       "      <th>303610</th>\n",
       "      <td>0.825</td>\n",
       "      <td>NaN</td>\n",
       "      <td>3.0</td>\n",
       "      <td>0.45</td>\n",
       "      <td>0.680625</td>\n",
       "    </tr>\n",
       "    <tr>\n",
       "      <th>303611</th>\n",
       "      <td>0.825</td>\n",
       "      <td>NaN</td>\n",
       "      <td>3.0</td>\n",
       "      <td>0.45</td>\n",
       "      <td>0.680625</td>\n",
       "    </tr>\n",
       "  </tbody>\n",
       "</table>\n",
       "<p>303612 rows × 5 columns</p>\n",
       "</div>"
      ],
      "text/plain": [
       "            a        fw   ID   c/b       a^2\n",
       "0       0.050  1.006557  0.0  0.01  0.002500\n",
       "1       0.100  1.030515  0.0  0.01  0.010000\n",
       "2       0.100  1.031412  0.0  0.05  0.010000\n",
       "3       0.200  1.040798  0.0  0.01  0.040000\n",
       "4       0.200  1.041399  0.0  0.05  0.040000\n",
       "...       ...       ...  ...   ...       ...\n",
       "303607  0.825       NaN  3.0  0.45  0.680625\n",
       "303608  0.825       NaN  3.0  0.45  0.680625\n",
       "303609  0.825       NaN  3.0  0.45  0.680625\n",
       "303610  0.825       NaN  3.0  0.45  0.680625\n",
       "303611  0.825       NaN  3.0  0.45  0.680625\n",
       "\n",
       "[303612 rows x 5 columns]"
      ]
     },
     "execution_count": 12,
     "metadata": {},
     "output_type": "execute_result"
    }
   ],
   "source": [
    "df_test"
   ]
  },
  {
   "cell_type": "code",
   "execution_count": 13,
   "id": "c85f1075-66c9-41cd-b8fa-6036dc48fae4",
   "metadata": {},
   "outputs": [],
   "source": [
    "df_test = df_test[df_test['ID'] == 1]"
   ]
  },
  {
   "cell_type": "code",
   "execution_count": 14,
   "id": "5d884fd4-d9cd-4923-9576-7ba146471aab",
   "metadata": {},
   "outputs": [
    {
     "name": "stderr",
     "output_type": "stream",
     "text": [
      "C:\\Users\\Prasanna Koirala\\AppData\\Local\\Temp\\ipykernel_15332\\470097794.py:1: SettingWithCopyWarning: \n",
      "A value is trying to be set on a copy of a slice from a DataFrame.\n",
      "Try using .loc[row_indexer,col_indexer] = value instead\n",
      "\n",
      "See the caveats in the documentation: https://pandas.pydata.org/pandas-docs/stable/user_guide/indexing.html#returning-a-view-versus-a-copy\n",
      "  df_test.loc[:,'equation_1'] = 1\n",
      "C:\\Users\\Prasanna Koirala\\AppData\\Local\\Temp\\ipykernel_15332\\470097794.py:2: SettingWithCopyWarning: \n",
      "A value is trying to be set on a copy of a slice from a DataFrame.\n",
      "Try using .loc[row_indexer,col_indexer] = value instead\n",
      "\n",
      "See the caveats in the documentation: https://pandas.pydata.org/pandas-docs/stable/user_guide/indexing.html#returning-a-view-versus-a-copy\n",
      "  df_test.loc[:,'equation_2'] = 1 + (df_train['a^2'])*(1-df_train['a^2'])\n",
      "C:\\Users\\Prasanna Koirala\\AppData\\Local\\Temp\\ipykernel_15332\\470097794.py:3: SettingWithCopyWarning: \n",
      "A value is trying to be set on a copy of a slice from a DataFrame.\n",
      "Try using .loc[row_indexer,col_indexer] = value instead\n",
      "\n",
      "See the caveats in the documentation: https://pandas.pydata.org/pandas-docs/stable/user_guide/indexing.html#returning-a-view-versus-a-copy\n",
      "  df_test.loc[:,'equation_3'] = (-1/2) * (-2-df_train['c/b'])\n"
     ]
    }
   ],
   "source": [
    "df_test.loc[:,'equation_1'] = 1\n",
    "df_test.loc[:,'equation_2'] = 1 + (df_train['a^2'])*(1-df_train['a^2'])\n",
    "df_test.loc[:,'equation_3'] = (-1/2) * (-2-df_train['c/b'])"
   ]
  },
  {
   "cell_type": "code",
   "execution_count": 15,
   "id": "c0bc837b-6e04-4ce2-9251-aeadaadda7e2",
   "metadata": {},
   "outputs": [],
   "source": [
    "rmse1_test = np.sqrt(((df_test['fw'] - df_test['equation_1']) ** 2).mean())\n",
    "rmse2_test = np.sqrt(((df_test['fw'] - df_test['equation_2']) ** 2).mean())\n",
    "rmse3_test = np.sqrt(((df_test['fw'] - df_test['equation_3']) ** 2).mean())"
   ]
  },
  {
   "cell_type": "code",
   "execution_count": 16,
   "id": "7ba043b7-d5d5-4084-9ec5-c6eb1abf23a0",
   "metadata": {},
   "outputs": [],
   "source": [
    "rmse_test = list(range(0,100))\n",
    "rmse_test[0] = rmse1_test\n",
    "rmse_test = [rmse2_test if 1 <= x <= 6 else rmse3_test for x in rmse_test]"
   ]
  },
  {
   "cell_type": "code",
   "execution_count": 17,
   "id": "7d6290a6-150d-4720-98df-50199219c5c0",
   "metadata": {},
   "outputs": [
    {
     "name": "stdout",
     "output_type": "stream",
     "text": [
      "Training error 0.05767642629683711\n",
      "Testing error 0.07488397136605777\n"
     ]
    }
   ],
   "source": [
    "print(\"Training error\", rmse_train[-1])\n",
    "print(\"Testing error\", rmse_test[-1])"
   ]
  },
  {
   "cell_type": "code",
   "execution_count": 18,
   "id": "5ae8ff78-c181-4cae-972a-819e4e1a04c1",
   "metadata": {},
   "outputs": [
    {
     "data": {
      "image/png": "[encoded data removed]",
      "text/plain": [
       "<Figure size 1400x1000 with 1 Axes>"
      ]
     },
     "metadata": {},
     "output_type": "display_data"
    }
   ],
   "source": [
    "plt.figure(figsize=(14, 10))\n",
    "plt.plot(generations, rmse_train, label='Train', color='blue')\n",
    "plt.plot(generations, rmse_test, label='Test', color='orange')\n",
    "plt.xlabel('Generations', fontsize=30)\n",
    "plt.ylabel('RMSE', fontsize=30)\n",
    "plt.legend(fontsize=25)\n",
    "plt.xticks(fontsize = 30)\n",
    "plt.yticks(fontsize = 30)\n",
    "plt.grid(True)\n",
    "plt.savefig('RMSE.png') "
   ]
  },
  {
   "cell_type": "code",
   "execution_count": null,
   "id": "39c2f7c6-e595-46cf-8d8f-6059cdad2182",
   "metadata": {},
   "outputs": [],
   "source": []
  }
 ],
 "metadata": {
  "kernelspec": {
   "display_name": "Python 3 (ipykernel)",
   "language": "python",
   "name": "python3"
  },
  "language_info": {
   "codemirror_mode": {
    "name": "ipython",
    "version": 3
   },
   "file_extension": ".py",
   "mimetype": "text/x-python",
   "name": "python",
   "nbconvert_exporter": "python",
   "pygments_lexer": "ipython3",
   "version": "3.11.9"
  }
 },
 "nbformat": 4,
 "nbformat_minor": 5
}
